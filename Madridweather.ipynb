{
 "cells": [
  {
   "cell_type": "markdown",
   "id": "2ad23b0b",
   "metadata": {},
   "source": [
    "# Madrid Daily Weather Report 1997-2015\n",
    "\n",
    "\n",
    "After collecting a sample of the daily weather in Madrid from 1997 till 2015 we would like to make some analysis using the data given to understand more of the nature of the weather in Madrid and also to be able to make futrhur decisions based on the weather. This dataset was provided by Maven Analytics in the following link: \n",
    "\n",
    "The questions we would like to answer are:\n",
    "    \n",
    "1) During the time period in this sample, what % of days had some sort of precipitation event? What % were clear?\n",
    "\n",
    "2) Suppose you're planning a vacation to Madrid and hoping for the warmest temperature. Which month might you plan to travel?\n",
    "\n",
    "3) On which date in the sample did Madrid see the fastest wind gust? What was the weather like on that day?\n",
    "\n",
    "4) How does the average visibility (Km) compare for clear days vs. foggy days?\n",
    "\n",
    "I will be providing answers to these questions using both numbers and charts to make it both visually appealing and easy to understand."
   ]
  },
  {
   "cell_type": "code",
   "execution_count": 1,
   "id": "9821b0d9",
   "metadata": {},
   "outputs": [
    {
     "data": {
      "text/html": [
       "<div>\n",
       "<style scoped>\n",
       "    .dataframe tbody tr th:only-of-type {\n",
       "        vertical-align: middle;\n",
       "    }\n",
       "\n",
       "    .dataframe tbody tr th {\n",
       "        vertical-align: top;\n",
       "    }\n",
       "\n",
       "    .dataframe thead th {\n",
       "        text-align: right;\n",
       "    }\n",
       "</style>\n",
       "<table border=\"1\" class=\"dataframe\">\n",
       "  <thead>\n",
       "    <tr style=\"text-align: right;\">\n",
       "      <th></th>\n",
       "      <th>CET</th>\n",
       "      <th>Max TemperatureC</th>\n",
       "      <th>Mean TemperatureC</th>\n",
       "      <th>Min TemperatureC</th>\n",
       "      <th>Dew PointC</th>\n",
       "      <th>MeanDew PointC</th>\n",
       "      <th>Min DewpointC</th>\n",
       "      <th>Max Humidity</th>\n",
       "      <th>Mean Humidity</th>\n",
       "      <th>Min Humidity</th>\n",
       "      <th>Max Sea Level PressurehPa</th>\n",
       "      <th>Mean Sea Level PressurehPa</th>\n",
       "      <th>Min Sea Level PressurehPa</th>\n",
       "      <th>Max VisibilityKm</th>\n",
       "      <th>Mean VisibilityKm</th>\n",
       "      <th>Min VisibilitykM</th>\n",
       "      <th>Max Wind SpeedKm/h</th>\n",
       "      <th>Mean Wind SpeedKm/h</th>\n",
       "      <th>Max Gust SpeedKm/h</th>\n",
       "      <th>Precipitationmm</th>\n",
       "      <th>CloudCover</th>\n",
       "      <th>Events</th>\n",
       "      <th>WindDirDegrees</th>\n",
       "    </tr>\n",
       "  </thead>\n",
       "  <tbody>\n",
       "    <tr>\n",
       "      <th>0</th>\n",
       "      <td>1997-01-01</td>\n",
       "      <td>7.0</td>\n",
       "      <td>4.0</td>\n",
       "      <td>2.0</td>\n",
       "      <td>5.0</td>\n",
       "      <td>3.0</td>\n",
       "      <td>2.0</td>\n",
       "      <td>100.0</td>\n",
       "      <td>95.0</td>\n",
       "      <td>76.0</td>\n",
       "      <td>1010</td>\n",
       "      <td>1008</td>\n",
       "      <td>1004</td>\n",
       "      <td>10.0</td>\n",
       "      <td>9.0</td>\n",
       "      <td>4.0</td>\n",
       "      <td>13</td>\n",
       "      <td>6</td>\n",
       "      <td>NaN</td>\n",
       "      <td>0.0</td>\n",
       "      <td>6.0</td>\n",
       "      <td>NaN</td>\n",
       "      <td>229</td>\n",
       "    </tr>\n",
       "    <tr>\n",
       "      <th>1</th>\n",
       "      <td>1997-01-02</td>\n",
       "      <td>7.0</td>\n",
       "      <td>3.0</td>\n",
       "      <td>0.0</td>\n",
       "      <td>6.0</td>\n",
       "      <td>3.0</td>\n",
       "      <td>0.0</td>\n",
       "      <td>100.0</td>\n",
       "      <td>92.0</td>\n",
       "      <td>71.0</td>\n",
       "      <td>1007</td>\n",
       "      <td>1003</td>\n",
       "      <td>997</td>\n",
       "      <td>10.0</td>\n",
       "      <td>9.0</td>\n",
       "      <td>4.0</td>\n",
       "      <td>26</td>\n",
       "      <td>8</td>\n",
       "      <td>47.0</td>\n",
       "      <td>0.0</td>\n",
       "      <td>5.0</td>\n",
       "      <td>Rain</td>\n",
       "      <td>143</td>\n",
       "    </tr>\n",
       "    <tr>\n",
       "      <th>2</th>\n",
       "      <td>1997-01-03</td>\n",
       "      <td>5.0</td>\n",
       "      <td>3.0</td>\n",
       "      <td>2.0</td>\n",
       "      <td>5.0</td>\n",
       "      <td>1.0</td>\n",
       "      <td>-1.0</td>\n",
       "      <td>100.0</td>\n",
       "      <td>85.0</td>\n",
       "      <td>70.0</td>\n",
       "      <td>1005</td>\n",
       "      <td>999</td>\n",
       "      <td>996</td>\n",
       "      <td>10.0</td>\n",
       "      <td>10.0</td>\n",
       "      <td>7.0</td>\n",
       "      <td>27</td>\n",
       "      <td>19</td>\n",
       "      <td>NaN</td>\n",
       "      <td>0.0</td>\n",
       "      <td>6.0</td>\n",
       "      <td>Rain-Snow</td>\n",
       "      <td>256</td>\n",
       "    </tr>\n",
       "    <tr>\n",
       "      <th>3</th>\n",
       "      <td>1997-01-04</td>\n",
       "      <td>7.0</td>\n",
       "      <td>3.0</td>\n",
       "      <td>-1.0</td>\n",
       "      <td>-2.0</td>\n",
       "      <td>-3.0</td>\n",
       "      <td>-4.0</td>\n",
       "      <td>86.0</td>\n",
       "      <td>63.0</td>\n",
       "      <td>49.0</td>\n",
       "      <td>1012</td>\n",
       "      <td>1010</td>\n",
       "      <td>1005</td>\n",
       "      <td>10.0</td>\n",
       "      <td>10.0</td>\n",
       "      <td>10.0</td>\n",
       "      <td>27</td>\n",
       "      <td>19</td>\n",
       "      <td>40.0</td>\n",
       "      <td>0.0</td>\n",
       "      <td>2.0</td>\n",
       "      <td>NaN</td>\n",
       "      <td>284</td>\n",
       "    </tr>\n",
       "    <tr>\n",
       "      <th>4</th>\n",
       "      <td>1997-01-05</td>\n",
       "      <td>2.0</td>\n",
       "      <td>0.0</td>\n",
       "      <td>-1.0</td>\n",
       "      <td>2.0</td>\n",
       "      <td>0.0</td>\n",
       "      <td>-3.0</td>\n",
       "      <td>100.0</td>\n",
       "      <td>95.0</td>\n",
       "      <td>86.0</td>\n",
       "      <td>1012</td>\n",
       "      <td>1008</td>\n",
       "      <td>1005</td>\n",
       "      <td>10.0</td>\n",
       "      <td>5.0</td>\n",
       "      <td>1.0</td>\n",
       "      <td>14</td>\n",
       "      <td>6</td>\n",
       "      <td>NaN</td>\n",
       "      <td>0.0</td>\n",
       "      <td>7.0</td>\n",
       "      <td>Snow</td>\n",
       "      <td>2</td>\n",
       "    </tr>\n",
       "  </tbody>\n",
       "</table>\n",
       "</div>"
      ],
      "text/plain": [
       "          CET  Max TemperatureC  Mean TemperatureC  Min TemperatureC  \\\n",
       "0  1997-01-01               7.0                4.0               2.0   \n",
       "1  1997-01-02               7.0                3.0               0.0   \n",
       "2  1997-01-03               5.0                3.0               2.0   \n",
       "3  1997-01-04               7.0                3.0              -1.0   \n",
       "4  1997-01-05               2.0                0.0              -1.0   \n",
       "\n",
       "   Dew PointC  MeanDew PointC  Min DewpointC  Max Humidity   Mean Humidity  \\\n",
       "0         5.0             3.0            2.0         100.0            95.0   \n",
       "1         6.0             3.0            0.0         100.0            92.0   \n",
       "2         5.0             1.0           -1.0         100.0            85.0   \n",
       "3        -2.0            -3.0           -4.0          86.0            63.0   \n",
       "4         2.0             0.0           -3.0         100.0            95.0   \n",
       "\n",
       "    Min Humidity   Max Sea Level PressurehPa   Mean Sea Level PressurehPa  \\\n",
       "0           76.0                        1010                         1008   \n",
       "1           71.0                        1007                         1003   \n",
       "2           70.0                        1005                          999   \n",
       "3           49.0                        1012                         1010   \n",
       "4           86.0                        1012                         1008   \n",
       "\n",
       "    Min Sea Level PressurehPa   Max VisibilityKm   Mean VisibilityKm  \\\n",
       "0                        1004               10.0                 9.0   \n",
       "1                         997               10.0                 9.0   \n",
       "2                         996               10.0                10.0   \n",
       "3                        1005               10.0                10.0   \n",
       "4                        1005               10.0                 5.0   \n",
       "\n",
       "    Min VisibilitykM   Max Wind SpeedKm/h   Mean Wind SpeedKm/h  \\\n",
       "0                4.0                   13                     6   \n",
       "1                4.0                   26                     8   \n",
       "2                7.0                   27                    19   \n",
       "3               10.0                   27                    19   \n",
       "4                1.0                   14                     6   \n",
       "\n",
       "    Max Gust SpeedKm/h  Precipitationmm   CloudCover     Events  \\\n",
       "0                  NaN              0.0          6.0        NaN   \n",
       "1                 47.0              0.0          5.0       Rain   \n",
       "2                  NaN              0.0          6.0  Rain-Snow   \n",
       "3                 40.0              0.0          2.0        NaN   \n",
       "4                  NaN              0.0          7.0       Snow   \n",
       "\n",
       "   WindDirDegrees  \n",
       "0             229  \n",
       "1             143  \n",
       "2             256  \n",
       "3             284  \n",
       "4               2  "
      ]
     },
     "execution_count": 1,
     "metadata": {},
     "output_type": "execute_result"
    }
   ],
   "source": [
    "import pandas as pd \n",
    "import numpy as np\n",
    "import matplotlib.pyplot as plt \n",
    "%matplotlib inline\n",
    "import seaborn as sns\n",
    "\n",
    "df=pd.read_csv('Madrid Daily Weather 1997-2015.csv')\n",
    "\n",
    "pd.set_option('display.max_columns', 500)\n",
    "df.head()"
   ]
  },
  {
   "cell_type": "markdown",
   "id": "687039fa",
   "metadata": {},
   "source": [
    "### Data Exploration-Part 1 : "
   ]
  },
  {
   "cell_type": "code",
   "execution_count": 2,
   "id": "b7aa512e",
   "metadata": {},
   "outputs": [
    {
     "name": "stdout",
     "output_type": "stream",
     "text": [
      "<class 'pandas.core.frame.DataFrame'>\n",
      "RangeIndex: 6812 entries, 0 to 6811\n",
      "Data columns (total 23 columns):\n",
      " #   Column                       Non-Null Count  Dtype  \n",
      "---  ------                       --------------  -----  \n",
      " 0   CET                          6812 non-null   object \n",
      " 1   Max TemperatureC             6810 non-null   float64\n",
      " 2   Mean TemperatureC            6809 non-null   float64\n",
      " 3   Min TemperatureC             6810 non-null   float64\n",
      " 4   Dew PointC                   6810 non-null   float64\n",
      " 5   MeanDew PointC               6810 non-null   float64\n",
      " 6   Min DewpointC                6810 non-null   float64\n",
      " 7   Max Humidity                 6810 non-null   float64\n",
      " 8    Mean Humidity               6810 non-null   float64\n",
      " 9    Min Humidity                6810 non-null   float64\n",
      " 10   Max Sea Level PressurehPa   6812 non-null   int64  \n",
      " 11   Mean Sea Level PressurehPa  6812 non-null   int64  \n",
      " 12   Min Sea Level PressurehPa   6812 non-null   int64  \n",
      " 13   Max VisibilityKm            5872 non-null   float64\n",
      " 14   Mean VisibilityKm           5872 non-null   float64\n",
      " 15   Min VisibilitykM            5872 non-null   float64\n",
      " 16   Max Wind SpeedKm/h          6812 non-null   int64  \n",
      " 17   Mean Wind SpeedKm/h         6812 non-null   int64  \n",
      " 18   Max Gust SpeedKm/h          3506 non-null   float64\n",
      " 19  Precipitationmm              6812 non-null   float64\n",
      " 20   CloudCover                  5440 non-null   float64\n",
      " 21   Events                      1798 non-null   object \n",
      " 22  WindDirDegrees               6812 non-null   int64  \n",
      "dtypes: float64(15), int64(6), object(2)\n",
      "memory usage: 1.2+ MB\n"
     ]
    }
   ],
   "source": [
    "#Checking more information about our data\n",
    "df.info()"
   ]
  },
  {
   "cell_type": "code",
   "execution_count": 3,
   "id": "906c2aab",
   "metadata": {},
   "outputs": [
    {
     "data": {
      "text/plain": [
       "CET                               0\n",
       "Max TemperatureC                  2\n",
       "Mean TemperatureC                 3\n",
       "Min TemperatureC                  2\n",
       "Dew PointC                        2\n",
       "MeanDew PointC                    2\n",
       "Min DewpointC                     2\n",
       "Max Humidity                      2\n",
       " Mean Humidity                    2\n",
       " Min Humidity                     2\n",
       " Max Sea Level PressurehPa        0\n",
       " Mean Sea Level PressurehPa       0\n",
       " Min Sea Level PressurehPa        0\n",
       " Max VisibilityKm               940\n",
       " Mean VisibilityKm              940\n",
       " Min VisibilitykM               940\n",
       " Max Wind SpeedKm/h               0\n",
       " Mean Wind SpeedKm/h              0\n",
       " Max Gust SpeedKm/h            3306\n",
       "Precipitationmm                   0\n",
       " CloudCover                    1372\n",
       " Events                        5014\n",
       "WindDirDegrees                    0\n",
       "dtype: int64"
      ]
     },
     "execution_count": 3,
     "metadata": {},
     "output_type": "execute_result"
    }
   ],
   "source": [
    "df.isnull().sum()"
   ]
  },
  {
   "cell_type": "markdown",
   "id": "fbfa2e12",
   "metadata": {},
   "source": [
    "There are some important columns that hae null values. We can choose to neglect these values as they would not affect our dataframe and analysis.\n",
    "\n",
    "Max TemperatureC                  2\n",
    "\n",
    "Mean TemperatureC                 3\n",
    "\n",
    "Min TemperatureC                  2\n",
    "\n",
    "Dew PointC                        2\n",
    "\n",
    "MeanDew PointC                    2\n",
    "\n",
    "Min DewpointC                     2\n",
    "\n",
    "Max Humidity                      2\n",
    "\n",
    " Mean Humidity                    2\n",
    " \n",
    " Min Humidity                     2\n",
    "\n",
    "We can start by dropping these values.\n",
    "\n",
    "Other null values in the remaning columns mostly mean that the event did not happen or that there was no entry on that day, eg: there was no gust or no cloud coverage. \n",
    "\n",
    "We will replace those nulls with 0s or any other string format ( depending on the type of the column in the data cleaning process)"
   ]
  },
  {
   "cell_type": "code",
   "execution_count": 4,
   "id": "2b48847b",
   "metadata": {},
   "outputs": [
    {
     "data": {
      "text/plain": [
       "0"
      ]
     },
     "execution_count": 4,
     "metadata": {},
     "output_type": "execute_result"
    }
   ],
   "source": [
    "df.duplicated().sum()"
   ]
  },
  {
   "cell_type": "markdown",
   "id": "a1d16445",
   "metadata": {},
   "source": [
    "There are no duplicates in our dataframe "
   ]
  },
  {
   "cell_type": "markdown",
   "id": "1077c7ad",
   "metadata": {},
   "source": [
    "### Data Cleaning: "
   ]
  },
  {
   "cell_type": "code",
   "execution_count": 5,
   "id": "09fbce63",
   "metadata": {},
   "outputs": [],
   "source": [
    "#First step as we realize that there are spaces in the column names specially in the beginning of the name\n",
    "#This will make it hard later in analysis so it's better to clean the format of these columns\n",
    "\n",
    "columns=list(df.columns)\n",
    "columns_new=[] #creating a new array for the cleaned format of columns \n",
    "for column in columns:\n",
    "    if column.find(' ')==0:  #if there is a space at the beginning of the word\n",
    "        col=column.replace(' ','',1) #replace first characther with no space at all\n",
    "        column_new=col.replace(' ','_') #replace the remaning of spaces\n",
    "    else:\n",
    "        column_new=column.replace(' ','_') #if there is a space in the middle then replace this space with an underscore\n",
    "    columns_new.append(column_new.lower())\n",
    "#We have now created a new list with the rightformat of the column names."
   ]
  },
  {
   "cell_type": "code",
   "execution_count": 6,
   "id": "d9d246fd",
   "metadata": {},
   "outputs": [
    {
     "data": {
      "text/plain": [
       "Index(['cet', 'max_temperaturec', 'mean_temperaturec', 'min_temperaturec',\n",
       "       'dew_pointc', 'meandew_pointc', 'min_dewpointc', 'max_humidity',\n",
       "       'mean_humidity', 'min_humidity', 'max_sea_level_pressurehpa',\n",
       "       'mean_sea_level_pressurehpa', 'min_sea_level_pressurehpa',\n",
       "       'max_visibilitykm', 'mean_visibilitykm', 'min_visibilitykm',\n",
       "       'max_wind_speedkm/h', 'mean_wind_speedkm/h', 'max_gust_speedkm/h',\n",
       "       'precipitationmm', 'cloudcover', 'events', 'winddirdegrees'],\n",
       "      dtype='object')"
      ]
     },
     "execution_count": 6,
     "metadata": {},
     "output_type": "execute_result"
    }
   ],
   "source": [
    "#Setting the new column names to our dataframe\n",
    "df.set_axis(columns_new,axis=1,inplace=True)\n",
    "#Double-checking that this steps was done correctly.\n",
    "df.columns"
   ]
  },
  {
   "cell_type": "code",
   "execution_count": 7,
   "id": "2d87f436",
   "metadata": {},
   "outputs": [
    {
     "data": {
      "text/plain": [
       "cet                              0\n",
       "max_temperaturec                 2\n",
       "mean_temperaturec                3\n",
       "min_temperaturec                 2\n",
       "dew_pointc                       2\n",
       "meandew_pointc                   2\n",
       "min_dewpointc                    2\n",
       "max_humidity                     2\n",
       "mean_humidity                    2\n",
       "min_humidity                     2\n",
       "max_sea_level_pressurehpa        0\n",
       "mean_sea_level_pressurehpa       0\n",
       "min_sea_level_pressurehpa        0\n",
       "max_visibilitykm               940\n",
       "mean_visibilitykm              940\n",
       "min_visibilitykm               940\n",
       "max_wind_speedkm/h               0\n",
       "mean_wind_speedkm/h              0\n",
       "max_gust_speedkm/h            3306\n",
       "precipitationmm                  0\n",
       "cloudcover                    1372\n",
       "events                        5014\n",
       "winddirdegrees                   0\n",
       "dtype: int64"
      ]
     },
     "execution_count": 7,
     "metadata": {},
     "output_type": "execute_result"
    }
   ],
   "source": [
    "df.isnull().sum()"
   ]
  },
  {
   "cell_type": "code",
   "execution_count": 8,
   "id": "3ce2f6a2",
   "metadata": {},
   "outputs": [
    {
     "data": {
      "text/html": [
       "<div>\n",
       "<style scoped>\n",
       "    .dataframe tbody tr th:only-of-type {\n",
       "        vertical-align: middle;\n",
       "    }\n",
       "\n",
       "    .dataframe tbody tr th {\n",
       "        vertical-align: top;\n",
       "    }\n",
       "\n",
       "    .dataframe thead th {\n",
       "        text-align: right;\n",
       "    }\n",
       "</style>\n",
       "<table border=\"1\" class=\"dataframe\">\n",
       "  <thead>\n",
       "    <tr style=\"text-align: right;\">\n",
       "      <th></th>\n",
       "      <th>cet</th>\n",
       "      <th>max_temperaturec</th>\n",
       "      <th>mean_temperaturec</th>\n",
       "      <th>min_temperaturec</th>\n",
       "      <th>dew_pointc</th>\n",
       "      <th>meandew_pointc</th>\n",
       "      <th>min_dewpointc</th>\n",
       "      <th>max_humidity</th>\n",
       "      <th>mean_humidity</th>\n",
       "      <th>min_humidity</th>\n",
       "      <th>max_sea_level_pressurehpa</th>\n",
       "      <th>mean_sea_level_pressurehpa</th>\n",
       "      <th>min_sea_level_pressurehpa</th>\n",
       "      <th>max_visibilitykm</th>\n",
       "      <th>mean_visibilitykm</th>\n",
       "      <th>min_visibilitykm</th>\n",
       "      <th>max_wind_speedkm/h</th>\n",
       "      <th>mean_wind_speedkm/h</th>\n",
       "      <th>max_gust_speedkm/h</th>\n",
       "      <th>precipitationmm</th>\n",
       "      <th>cloudcover</th>\n",
       "      <th>events</th>\n",
       "      <th>winddirdegrees</th>\n",
       "    </tr>\n",
       "  </thead>\n",
       "  <tbody>\n",
       "    <tr>\n",
       "      <th>1240</th>\n",
       "      <td>2000-08-22</td>\n",
       "      <td>27.0</td>\n",
       "      <td>NaN</td>\n",
       "      <td>27.0</td>\n",
       "      <td>-1.0</td>\n",
       "      <td>-1.0</td>\n",
       "      <td>-1.0</td>\n",
       "      <td>16.0</td>\n",
       "      <td>16.0</td>\n",
       "      <td>16.0</td>\n",
       "      <td>1015</td>\n",
       "      <td>1015</td>\n",
       "      <td>1015</td>\n",
       "      <td>NaN</td>\n",
       "      <td>NaN</td>\n",
       "      <td>NaN</td>\n",
       "      <td>19</td>\n",
       "      <td>19</td>\n",
       "      <td>NaN</td>\n",
       "      <td>0.0</td>\n",
       "      <td>NaN</td>\n",
       "      <td>NaN</td>\n",
       "      <td>260</td>\n",
       "    </tr>\n",
       "    <tr>\n",
       "      <th>1539</th>\n",
       "      <td>2001-06-25</td>\n",
       "      <td>NaN</td>\n",
       "      <td>NaN</td>\n",
       "      <td>NaN</td>\n",
       "      <td>NaN</td>\n",
       "      <td>NaN</td>\n",
       "      <td>NaN</td>\n",
       "      <td>NaN</td>\n",
       "      <td>NaN</td>\n",
       "      <td>NaN</td>\n",
       "      <td>1021</td>\n",
       "      <td>1019</td>\n",
       "      <td>1018</td>\n",
       "      <td>NaN</td>\n",
       "      <td>NaN</td>\n",
       "      <td>NaN</td>\n",
       "      <td>26</td>\n",
       "      <td>14</td>\n",
       "      <td>NaN</td>\n",
       "      <td>0.0</td>\n",
       "      <td>NaN</td>\n",
       "      <td>NaN</td>\n",
       "      <td>231</td>\n",
       "    </tr>\n",
       "    <tr>\n",
       "      <th>1540</th>\n",
       "      <td>2001-06-26</td>\n",
       "      <td>NaN</td>\n",
       "      <td>NaN</td>\n",
       "      <td>NaN</td>\n",
       "      <td>NaN</td>\n",
       "      <td>NaN</td>\n",
       "      <td>NaN</td>\n",
       "      <td>NaN</td>\n",
       "      <td>NaN</td>\n",
       "      <td>NaN</td>\n",
       "      <td>1021</td>\n",
       "      <td>1019</td>\n",
       "      <td>1016</td>\n",
       "      <td>NaN</td>\n",
       "      <td>NaN</td>\n",
       "      <td>NaN</td>\n",
       "      <td>26</td>\n",
       "      <td>11</td>\n",
       "      <td>NaN</td>\n",
       "      <td>0.0</td>\n",
       "      <td>NaN</td>\n",
       "      <td>NaN</td>\n",
       "      <td>248</td>\n",
       "    </tr>\n",
       "  </tbody>\n",
       "</table>\n",
       "</div>"
      ],
      "text/plain": [
       "             cet  max_temperaturec  mean_temperaturec  min_temperaturec  \\\n",
       "1240  2000-08-22              27.0                NaN              27.0   \n",
       "1539  2001-06-25               NaN                NaN               NaN   \n",
       "1540  2001-06-26               NaN                NaN               NaN   \n",
       "\n",
       "      dew_pointc  meandew_pointc  min_dewpointc  max_humidity  mean_humidity  \\\n",
       "1240        -1.0            -1.0           -1.0          16.0           16.0   \n",
       "1539         NaN             NaN            NaN           NaN            NaN   \n",
       "1540         NaN             NaN            NaN           NaN            NaN   \n",
       "\n",
       "      min_humidity  max_sea_level_pressurehpa  mean_sea_level_pressurehpa  \\\n",
       "1240          16.0                       1015                        1015   \n",
       "1539           NaN                       1021                        1019   \n",
       "1540           NaN                       1021                        1019   \n",
       "\n",
       "      min_sea_level_pressurehpa  max_visibilitykm  mean_visibilitykm  \\\n",
       "1240                       1015               NaN                NaN   \n",
       "1539                       1018               NaN                NaN   \n",
       "1540                       1016               NaN                NaN   \n",
       "\n",
       "      min_visibilitykm  max_wind_speedkm/h  mean_wind_speedkm/h  \\\n",
       "1240               NaN                  19                   19   \n",
       "1539               NaN                  26                   14   \n",
       "1540               NaN                  26                   11   \n",
       "\n",
       "      max_gust_speedkm/h  precipitationmm  cloudcover events  winddirdegrees  \n",
       "1240                 NaN              0.0         NaN    NaN             260  \n",
       "1539                 NaN              0.0         NaN    NaN             231  \n",
       "1540                 NaN              0.0         NaN    NaN             248  "
      ]
     },
     "execution_count": 8,
     "metadata": {},
     "output_type": "execute_result"
    }
   ],
   "source": [
    "#We have 7 columns that we want to delete all null rows from. \n",
    "# I will start by checking the column with the most nulls (3 nulls) to get their index number and delete them\n",
    "df[df['mean_temperaturec'].isnull() == True]"
   ]
  },
  {
   "cell_type": "code",
   "execution_count": 9,
   "id": "9cae1739",
   "metadata": {},
   "outputs": [],
   "source": [
    "drop_index=list(df[df['mean_temperaturec'].isnull()==True].index)\n",
    "df.drop(drop_index,axis=0,inplace=True)"
   ]
  },
  {
   "cell_type": "code",
   "execution_count": 10,
   "id": "68b3a7b3",
   "metadata": {},
   "outputs": [],
   "source": [
    "#Replacing the nulls in events to \n",
    "df['events'].fillna(\"No Events\",inplace=True)"
   ]
  },
  {
   "cell_type": "code",
   "execution_count": 11,
   "id": "23184241",
   "metadata": {},
   "outputs": [],
   "source": [
    "#Replacing all other null values with their mean values \n",
    "df['max_visibilitykm'].fillna(df['max_visibilitykm'].mean(),inplace=True)\n",
    "df['mean_visibilitykm'].fillna(df['mean_visibilitykm'].mean(),inplace=True)\n",
    "df['min_visibilitykm'].fillna(df['min_visibilitykm'].mean(),inplace=True)\n",
    "df['max_gust_speedkm/h'].fillna(df['max_gust_speedkm/h'].mean(),inplace=True)\n",
    "df['cloudcover'].fillna(df['cloudcover'].mean(),inplace=True)"
   ]
  },
  {
   "cell_type": "code",
   "execution_count": 12,
   "id": "fbc04799",
   "metadata": {},
   "outputs": [
    {
     "data": {
      "text/plain": [
       "cet                           0\n",
       "max_temperaturec              0\n",
       "mean_temperaturec             0\n",
       "min_temperaturec              0\n",
       "dew_pointc                    0\n",
       "meandew_pointc                0\n",
       "min_dewpointc                 0\n",
       "max_humidity                  0\n",
       "mean_humidity                 0\n",
       "min_humidity                  0\n",
       "max_sea_level_pressurehpa     0\n",
       "mean_sea_level_pressurehpa    0\n",
       "min_sea_level_pressurehpa     0\n",
       "max_visibilitykm              0\n",
       "mean_visibilitykm             0\n",
       "min_visibilitykm              0\n",
       "max_wind_speedkm/h            0\n",
       "mean_wind_speedkm/h           0\n",
       "max_gust_speedkm/h            0\n",
       "precipitationmm               0\n",
       "cloudcover                    0\n",
       "events                        0\n",
       "winddirdegrees                0\n",
       "dtype: int64"
      ]
     },
     "execution_count": 12,
     "metadata": {},
     "output_type": "execute_result"
    }
   ],
   "source": [
    "df.isnull().sum()"
   ]
  },
  {
   "cell_type": "code",
   "execution_count": 13,
   "id": "b8e612d6",
   "metadata": {},
   "outputs": [],
   "source": [
    "#Creating a new column called date.Formatting this column as date-time format.\n",
    "df['date']=pd.to_datetime(df['cet'])\n",
    "\n",
    "#Creating three other columns called day,month and year, extracted from the date column\n",
    "df['day']=df['date'].dt.day\n",
    "df['month']=df['date'].dt.month_name()\n",
    "df['year']=df['date'].dt.year"
   ]
  },
  {
   "cell_type": "code",
   "execution_count": 14,
   "id": "40a200bb",
   "metadata": {},
   "outputs": [
    {
     "name": "stdout",
     "output_type": "stream",
     "text": [
      "<class 'pandas.core.frame.DataFrame'>\n",
      "Int64Index: 6809 entries, 0 to 6811\n",
      "Data columns (total 27 columns):\n",
      " #   Column                      Non-Null Count  Dtype         \n",
      "---  ------                      --------------  -----         \n",
      " 0   cet                         6809 non-null   object        \n",
      " 1   max_temperaturec            6809 non-null   float64       \n",
      " 2   mean_temperaturec           6809 non-null   float64       \n",
      " 3   min_temperaturec            6809 non-null   float64       \n",
      " 4   dew_pointc                  6809 non-null   float64       \n",
      " 5   meandew_pointc              6809 non-null   float64       \n",
      " 6   min_dewpointc               6809 non-null   float64       \n",
      " 7   max_humidity                6809 non-null   float64       \n",
      " 8   mean_humidity               6809 non-null   float64       \n",
      " 9   min_humidity                6809 non-null   float64       \n",
      " 10  max_sea_level_pressurehpa   6809 non-null   int64         \n",
      " 11  mean_sea_level_pressurehpa  6809 non-null   int64         \n",
      " 12  min_sea_level_pressurehpa   6809 non-null   int64         \n",
      " 13  max_visibilitykm            6809 non-null   float64       \n",
      " 14  mean_visibilitykm           6809 non-null   float64       \n",
      " 15  min_visibilitykm            6809 non-null   float64       \n",
      " 16  max_wind_speedkm/h          6809 non-null   int64         \n",
      " 17  mean_wind_speedkm/h         6809 non-null   int64         \n",
      " 18  max_gust_speedkm/h          6809 non-null   float64       \n",
      " 19  precipitationmm             6809 non-null   float64       \n",
      " 20  cloudcover                  6809 non-null   float64       \n",
      " 21  events                      6809 non-null   object        \n",
      " 22  winddirdegrees              6809 non-null   int64         \n",
      " 23  date                        6809 non-null   datetime64[ns]\n",
      " 24  day                         6809 non-null   int64         \n",
      " 25  month                       6809 non-null   object        \n",
      " 26  year                        6809 non-null   int64         \n",
      "dtypes: datetime64[ns](1), float64(15), int64(8), object(3)\n",
      "memory usage: 1.5+ MB\n"
     ]
    }
   ],
   "source": [
    "df.info()"
   ]
  },
  {
   "cell_type": "markdown",
   "id": "e494cf0c",
   "metadata": {},
   "source": [
    "### Data Exploration:"
   ]
  },
  {
   "cell_type": "markdown",
   "id": "77195bf0",
   "metadata": {},
   "source": [
    "#### 1) During the time period in this sample, what % of days had some sort of precipitation event? What % were clear?"
   ]
  },
  {
   "cell_type": "code",
   "execution_count": 15,
   "id": "f83497c0",
   "metadata": {},
   "outputs": [],
   "source": [
    "total_days=df.shape[0] #total the number of days from the number of entries as we do not have any duplicated days/data\n"
   ]
  },
  {
   "cell_type": "code",
   "execution_count": 16,
   "id": "56270d28",
   "metadata": {},
   "outputs": [
    {
     "data": {
      "text/plain": [
       "No Events                 5011\n",
       "Rain                      1140\n",
       "Rain-Thunderstorm          247\n",
       "Fog                        233\n",
       "Fog-Rain                    69\n",
       "Thunderstorm                45\n",
       "Rain-Snow                   33\n",
       "Snow                        14\n",
       "Rain-Hail-Thunderstorm       7\n",
       "Fog-Snow                     4\n",
       "Fog-Thunderstorm             1\n",
       "Tornado                      1\n",
       "Fog-Rain-Thunderstorm        1\n",
       "Fog-Rain-Snow                1\n",
       "Rain-Snow-Thunderstorm       1\n",
       "Rain-Hail                    1\n",
       "Name: events, dtype: int64"
      ]
     },
     "execution_count": 16,
     "metadata": {},
     "output_type": "execute_result"
    }
   ],
   "source": [
    "#Understanding the events registered in our dataset \n",
    "\n",
    "df.events.value_counts()"
   ]
  },
  {
   "cell_type": "code",
   "execution_count": 17,
   "id": "ca7d2196",
   "metadata": {},
   "outputs": [],
   "source": [
    "clear_days=df.query('events==\"No Events\"')['cet'].count()\n",
    "\n",
    "prec_days=total_days-clear_days"
   ]
  },
  {
   "cell_type": "code",
   "execution_count": 18,
   "id": "f41a7573",
   "metadata": {},
   "outputs": [
    {
     "data": {
      "text/plain": [
       "73.59377294756939"
      ]
     },
     "execution_count": 18,
     "metadata": {},
     "output_type": "execute_result"
    }
   ],
   "source": [
    "clear_days_per=(clear_days/total_days)*100\n",
    "\n",
    "clear_days_per"
   ]
  },
  {
   "cell_type": "code",
   "execution_count": 19,
   "id": "90485b53",
   "metadata": {},
   "outputs": [
    {
     "data": {
      "text/plain": [
       "26.40622705243061"
      ]
     },
     "execution_count": 19,
     "metadata": {},
     "output_type": "execute_result"
    }
   ],
   "source": [
    "prec_days_per=(prec_days/total_days)*100\n",
    "\n",
    "prec_days_per"
   ]
  },
  {
   "cell_type": "code",
   "execution_count": 20,
   "id": "26b362f0",
   "metadata": {},
   "outputs": [
    {
     "data": {
      "image/png": "[encoded data removed]",
      "text/plain": [
       "<Figure size 432x288 with 1 Axes>"
      ]
     },
     "metadata": {},
     "output_type": "display_data"
    }
   ],
   "source": [
    "data=[clear_days_per,prec_days_per]\n",
    "labels=['clear days','precipitation events']\n",
    "colors = sns.color_palette('pastel')\n",
    "\n",
    "plt.pie(data,labels=labels,autopct='%.1f%%',colors=colors);\n",
    "plt.title('% of Clear Days VS % of precipitive days');\n"
   ]
  },
  {
   "cell_type": "markdown",
   "id": "5db133ba",
   "metadata": {},
   "source": [
    "**We can find that there were more clear days than days with rain/storms. 73.6% of days were clear, while only 26.4% of days had preciptation events.**"
   ]
  },
  {
   "cell_type": "markdown",
   "id": "039d771a",
   "metadata": {},
   "source": [
    "#### 2)Suppose you're planning a vacation to Madrid and hoping for the warmest temperature. Which month might you plan to travel?"
   ]
  },
  {
   "cell_type": "code",
   "execution_count": 21,
   "id": "dd44d47f",
   "metadata": {},
   "outputs": [],
   "source": [
    "#To calculate the warmest temprature it would be better if we would used the mean temprature to calcualte the warmest temprature\n",
    "\n",
    "warmest_months=df.groupby('month')['mean_temperaturec'].max().sort_values(ascending=False)"
   ]
  },
  {
   "cell_type": "code",
   "execution_count": 22,
   "id": "726e58cb",
   "metadata": {},
   "outputs": [
    {
     "data": {
      "text/plain": [
       "month\n",
       "July         32.0\n",
       "August       31.0\n",
       "June         31.0\n",
       "September    28.0\n",
       "May          26.0\n",
       "October      23.0\n",
       "April        20.0\n",
       "November     18.0\n",
       "March        17.0\n",
       "February     14.0\n",
       "January      14.0\n",
       "December     13.0\n",
       "Name: mean_temperaturec, dtype: float64"
      ]
     },
     "execution_count": 22,
     "metadata": {},
     "output_type": "execute_result"
    }
   ],
   "source": [
    "warmest_months"
   ]
  },
  {
   "cell_type": "code",
   "execution_count": 23,
   "id": "82415510",
   "metadata": {},
   "outputs": [
    {
     "data": {
      "image/png": "[encoded data removed]",
      "text/plain": [
       "<Figure size 792x432 with 1 Axes>"
      ]
     },
     "metadata": {
      "needs_background": "light"
     },
     "output_type": "display_data"
    }
   ],
   "source": [
    "xaxis=list(warmest_months.index)\n",
    "yaxis=list(warmest_months.values)\n",
    "\n",
    "plt.rcParams[\"figure.figsize\"] = (11,6)\n",
    "fig=plt.bar(xaxis,yaxis);\n",
    "plt.title('Average Temprature Per Month');\n",
    "plt.xlabel('Month');\n",
    "plt.ylabel('Average Temprature in C');"
   ]
  },
  {
   "cell_type": "markdown",
   "id": "aabda48f",
   "metadata": {},
   "source": [
    "**The warmest month to visist Madrid would be in July, August or June. Which makes sense that summer would be the best time to plan a vacation to Madrid and enjoy the weather.**"
   ]
  },
  {
   "cell_type": "markdown",
   "id": "cfe8696c",
   "metadata": {},
   "source": [
    "#### 3)  On which date in the sample did Madrid see the fastest wind gust? What was the weather like on that day?"
   ]
  },
  {
   "cell_type": "code",
   "execution_count": 24,
   "id": "71a035b5",
   "metadata": {},
   "outputs": [
    {
     "data": {
      "text/plain": [
       "103.0"
      ]
     },
     "execution_count": 24,
     "metadata": {},
     "output_type": "execute_result"
    }
   ],
   "source": [
    "max_gust=df['max_gust_speedkm/h'].max()\n",
    "\n",
    "max_gust"
   ]
  },
  {
   "cell_type": "code",
   "execution_count": 25,
   "id": "2955e0d7",
   "metadata": {},
   "outputs": [
    {
     "data": {
      "text/plain": [
       "309   1997-11-06\n",
       "Name: date, dtype: datetime64[ns]"
      ]
     },
     "execution_count": 25,
     "metadata": {},
     "output_type": "execute_result"
    }
   ],
   "source": [
    "df[df['max_gust_speedkm/h']==max_gust]['date']"
   ]
  },
  {
   "cell_type": "code",
   "execution_count": 26,
   "id": "fdc8a51b",
   "metadata": {},
   "outputs": [
    {
     "data": {
      "text/html": [
       "<div>\n",
       "<style scoped>\n",
       "    .dataframe tbody tr th:only-of-type {\n",
       "        vertical-align: middle;\n",
       "    }\n",
       "\n",
       "    .dataframe tbody tr th {\n",
       "        vertical-align: top;\n",
       "    }\n",
       "\n",
       "    .dataframe thead th {\n",
       "        text-align: right;\n",
       "    }\n",
       "</style>\n",
       "<table border=\"1\" class=\"dataframe\">\n",
       "  <thead>\n",
       "    <tr style=\"text-align: right;\">\n",
       "      <th></th>\n",
       "      <th>cet</th>\n",
       "      <th>max_temperaturec</th>\n",
       "      <th>mean_temperaturec</th>\n",
       "      <th>min_temperaturec</th>\n",
       "      <th>dew_pointc</th>\n",
       "      <th>meandew_pointc</th>\n",
       "      <th>min_dewpointc</th>\n",
       "      <th>max_humidity</th>\n",
       "      <th>mean_humidity</th>\n",
       "      <th>min_humidity</th>\n",
       "      <th>max_sea_level_pressurehpa</th>\n",
       "      <th>mean_sea_level_pressurehpa</th>\n",
       "      <th>min_sea_level_pressurehpa</th>\n",
       "      <th>max_visibilitykm</th>\n",
       "      <th>mean_visibilitykm</th>\n",
       "      <th>min_visibilitykm</th>\n",
       "      <th>max_wind_speedkm/h</th>\n",
       "      <th>mean_wind_speedkm/h</th>\n",
       "      <th>max_gust_speedkm/h</th>\n",
       "      <th>precipitationmm</th>\n",
       "      <th>cloudcover</th>\n",
       "      <th>events</th>\n",
       "      <th>winddirdegrees</th>\n",
       "      <th>date</th>\n",
       "      <th>day</th>\n",
       "      <th>month</th>\n",
       "      <th>year</th>\n",
       "    </tr>\n",
       "  </thead>\n",
       "  <tbody>\n",
       "    <tr>\n",
       "      <th>309</th>\n",
       "      <td>1997-11-06</td>\n",
       "      <td>16.0</td>\n",
       "      <td>11.0</td>\n",
       "      <td>6.0</td>\n",
       "      <td>12.0</td>\n",
       "      <td>5.0</td>\n",
       "      <td>1.0</td>\n",
       "      <td>88.0</td>\n",
       "      <td>70.0</td>\n",
       "      <td>54.0</td>\n",
       "      <td>1003</td>\n",
       "      <td>992</td>\n",
       "      <td>981</td>\n",
       "      <td>10.0</td>\n",
       "      <td>9.0</td>\n",
       "      <td>5.0</td>\n",
       "      <td>58</td>\n",
       "      <td>27</td>\n",
       "      <td>103.0</td>\n",
       "      <td>0.0</td>\n",
       "      <td>5.0</td>\n",
       "      <td>Rain</td>\n",
       "      <td>224</td>\n",
       "      <td>1997-11-06</td>\n",
       "      <td>6</td>\n",
       "      <td>November</td>\n",
       "      <td>1997</td>\n",
       "    </tr>\n",
       "  </tbody>\n",
       "</table>\n",
       "</div>"
      ],
      "text/plain": [
       "            cet  max_temperaturec  mean_temperaturec  min_temperaturec  \\\n",
       "309  1997-11-06              16.0               11.0               6.0   \n",
       "\n",
       "     dew_pointc  meandew_pointc  min_dewpointc  max_humidity  mean_humidity  \\\n",
       "309        12.0             5.0            1.0          88.0           70.0   \n",
       "\n",
       "     min_humidity  max_sea_level_pressurehpa  mean_sea_level_pressurehpa  \\\n",
       "309          54.0                       1003                         992   \n",
       "\n",
       "     min_sea_level_pressurehpa  max_visibilitykm  mean_visibilitykm  \\\n",
       "309                        981              10.0                9.0   \n",
       "\n",
       "     min_visibilitykm  max_wind_speedkm/h  mean_wind_speedkm/h  \\\n",
       "309               5.0                  58                   27   \n",
       "\n",
       "     max_gust_speedkm/h  precipitationmm  cloudcover events  winddirdegrees  \\\n",
       "309               103.0              0.0         5.0   Rain             224   \n",
       "\n",
       "          date  day     month  year  \n",
       "309 1997-11-06    6  November  1997  "
      ]
     },
     "execution_count": 26,
     "metadata": {},
     "output_type": "execute_result"
    }
   ],
   "source": [
    "df[df['max_gust_speedkm/h']==max_gust]"
   ]
  },
  {
   "cell_type": "markdown",
   "id": "45678526",
   "metadata": {},
   "source": [
    "**The 6th of Novemeber 1997 withnessed the highest gust speed. There was rain and it was cold, the minimum temprature was 6 degrees while the maximum tempraute was 16 degrees. Having an overall mean temprature of 11 degrees.**"
   ]
  },
  {
   "cell_type": "markdown",
   "id": "63ab644f",
   "metadata": {},
   "source": [
    "#### 4)  How does the average visibility (Km) compare for clear days vs. foggy days?"
   ]
  },
  {
   "cell_type": "code",
   "execution_count": 27,
   "id": "c0e8c316",
   "metadata": {},
   "outputs": [
    {
     "data": {
      "text/plain": [
       "12.463880654657753"
      ]
     },
     "execution_count": 27,
     "metadata": {},
     "output_type": "execute_result"
    }
   ],
   "source": [
    "#First we have to filter with clear days \n",
    "\n",
    "clear_days=df.query(\"events=='No Events'\")\n",
    "\n",
    "#The we can find the mean visibilty in clear days\n",
    "\n",
    "clear_vis=clear_days['mean_visibilitykm'].mean()\n",
    "\n",
    "clear_vis"
   ]
  },
  {
   "cell_type": "code",
   "execution_count": 28,
   "id": "8b24e64b",
   "metadata": {},
   "outputs": [
    {
     "data": {
      "text/plain": [
       "['No Events',\n",
       " 'Rain',\n",
       " 'Rain-Thunderstorm',\n",
       " 'Fog',\n",
       " 'Fog-Rain',\n",
       " 'Thunderstorm',\n",
       " 'Rain-Snow',\n",
       " 'Snow',\n",
       " 'Rain-Hail-Thunderstorm',\n",
       " 'Fog-Snow',\n",
       " 'Fog-Thunderstorm',\n",
       " 'Tornado',\n",
       " 'Fog-Rain-Thunderstorm',\n",
       " 'Fog-Rain-Snow',\n",
       " 'Rain-Snow-Thunderstorm',\n",
       " 'Rain-Hail']"
      ]
     },
     "execution_count": 28,
     "metadata": {},
     "output_type": "execute_result"
    }
   ],
   "source": [
    "#There are so many events related to foggy days so we will first check how many events have fog.\n",
    "\n",
    "events= list(df.events.value_counts().index) #creating a list with unique events in our sample\n",
    "\n",
    "events"
   ]
  },
  {
   "cell_type": "code",
   "execution_count": 29,
   "id": "02e6fc32",
   "metadata": {},
   "outputs": [
    {
     "data": {
      "text/plain": [
       "['Fog',\n",
       " 'Fog-Rain',\n",
       " 'Fog-Snow',\n",
       " 'Fog-Thunderstorm',\n",
       " 'Fog-Rain-Thunderstorm',\n",
       " 'Fog-Rain-Snow']"
      ]
     },
     "execution_count": 29,
     "metadata": {},
     "output_type": "execute_result"
    }
   ],
   "source": [
    "#creating a new list called fog_events\n",
    "\n",
    "fog_events=[]\n",
    "\n",
    "for event in events:\n",
    "    if 'Fog' in event: #if the word 'fog' is in the string event\n",
    "        fog_events.append(event) #then add it to the empty list \n",
    "fog_events        "
   ]
  },
  {
   "cell_type": "code",
   "execution_count": 30,
   "id": "9a2a92dd",
   "metadata": {},
   "outputs": [
    {
     "data": {
      "text/html": [
       "<div>\n",
       "<style scoped>\n",
       "    .dataframe tbody tr th:only-of-type {\n",
       "        vertical-align: middle;\n",
       "    }\n",
       "\n",
       "    .dataframe tbody tr th {\n",
       "        vertical-align: top;\n",
       "    }\n",
       "\n",
       "    .dataframe thead th {\n",
       "        text-align: right;\n",
       "    }\n",
       "</style>\n",
       "<table border=\"1\" class=\"dataframe\">\n",
       "  <thead>\n",
       "    <tr style=\"text-align: right;\">\n",
       "      <th></th>\n",
       "      <th>cet</th>\n",
       "      <th>max_temperaturec</th>\n",
       "      <th>mean_temperaturec</th>\n",
       "      <th>min_temperaturec</th>\n",
       "      <th>dew_pointc</th>\n",
       "      <th>meandew_pointc</th>\n",
       "      <th>min_dewpointc</th>\n",
       "      <th>max_humidity</th>\n",
       "      <th>mean_humidity</th>\n",
       "      <th>min_humidity</th>\n",
       "      <th>max_sea_level_pressurehpa</th>\n",
       "      <th>mean_sea_level_pressurehpa</th>\n",
       "      <th>min_sea_level_pressurehpa</th>\n",
       "      <th>max_visibilitykm</th>\n",
       "      <th>mean_visibilitykm</th>\n",
       "      <th>min_visibilitykm</th>\n",
       "      <th>max_wind_speedkm/h</th>\n",
       "      <th>mean_wind_speedkm/h</th>\n",
       "      <th>max_gust_speedkm/h</th>\n",
       "      <th>precipitationmm</th>\n",
       "      <th>cloudcover</th>\n",
       "      <th>events</th>\n",
       "      <th>winddirdegrees</th>\n",
       "      <th>date</th>\n",
       "      <th>day</th>\n",
       "      <th>month</th>\n",
       "      <th>year</th>\n",
       "    </tr>\n",
       "  </thead>\n",
       "  <tbody>\n",
       "    <tr>\n",
       "      <th>10</th>\n",
       "      <td>1997-01-11</td>\n",
       "      <td>16.0</td>\n",
       "      <td>10.0</td>\n",
       "      <td>5.0</td>\n",
       "      <td>10.0</td>\n",
       "      <td>7.0</td>\n",
       "      <td>5.0</td>\n",
       "      <td>100.0</td>\n",
       "      <td>90.0</td>\n",
       "      <td>67.0</td>\n",
       "      <td>1024</td>\n",
       "      <td>1022</td>\n",
       "      <td>1021</td>\n",
       "      <td>10.0</td>\n",
       "      <td>6.0</td>\n",
       "      <td>0.0</td>\n",
       "      <td>11</td>\n",
       "      <td>2</td>\n",
       "      <td>43.988306</td>\n",
       "      <td>0.00</td>\n",
       "      <td>3.000000</td>\n",
       "      <td>Fog</td>\n",
       "      <td>344</td>\n",
       "      <td>1997-01-11</td>\n",
       "      <td>11</td>\n",
       "      <td>January</td>\n",
       "      <td>1997</td>\n",
       "    </tr>\n",
       "    <tr>\n",
       "      <th>12</th>\n",
       "      <td>1997-01-13</td>\n",
       "      <td>15.0</td>\n",
       "      <td>9.0</td>\n",
       "      <td>4.0</td>\n",
       "      <td>9.0</td>\n",
       "      <td>4.0</td>\n",
       "      <td>-1.0</td>\n",
       "      <td>100.0</td>\n",
       "      <td>75.0</td>\n",
       "      <td>38.0</td>\n",
       "      <td>1022</td>\n",
       "      <td>1021</td>\n",
       "      <td>1019</td>\n",
       "      <td>10.0</td>\n",
       "      <td>9.0</td>\n",
       "      <td>3.0</td>\n",
       "      <td>11</td>\n",
       "      <td>2</td>\n",
       "      <td>43.988306</td>\n",
       "      <td>0.00</td>\n",
       "      <td>4.000000</td>\n",
       "      <td>Fog</td>\n",
       "      <td>128</td>\n",
       "      <td>1997-01-13</td>\n",
       "      <td>13</td>\n",
       "      <td>January</td>\n",
       "      <td>1997</td>\n",
       "    </tr>\n",
       "    <tr>\n",
       "      <th>26</th>\n",
       "      <td>1997-01-27</td>\n",
       "      <td>15.0</td>\n",
       "      <td>8.0</td>\n",
       "      <td>2.0</td>\n",
       "      <td>8.0</td>\n",
       "      <td>6.0</td>\n",
       "      <td>2.0</td>\n",
       "      <td>100.0</td>\n",
       "      <td>84.0</td>\n",
       "      <td>55.0</td>\n",
       "      <td>1028</td>\n",
       "      <td>1027</td>\n",
       "      <td>1026</td>\n",
       "      <td>10.0</td>\n",
       "      <td>7.0</td>\n",
       "      <td>0.0</td>\n",
       "      <td>10</td>\n",
       "      <td>2</td>\n",
       "      <td>43.988306</td>\n",
       "      <td>0.00</td>\n",
       "      <td>6.000000</td>\n",
       "      <td>Fog</td>\n",
       "      <td>5</td>\n",
       "      <td>1997-01-27</td>\n",
       "      <td>27</td>\n",
       "      <td>January</td>\n",
       "      <td>1997</td>\n",
       "    </tr>\n",
       "    <tr>\n",
       "      <th>31</th>\n",
       "      <td>1997-02-01</td>\n",
       "      <td>12.0</td>\n",
       "      <td>9.0</td>\n",
       "      <td>6.0</td>\n",
       "      <td>9.0</td>\n",
       "      <td>7.0</td>\n",
       "      <td>6.0</td>\n",
       "      <td>100.0</td>\n",
       "      <td>95.0</td>\n",
       "      <td>77.0</td>\n",
       "      <td>1029</td>\n",
       "      <td>1028</td>\n",
       "      <td>1027</td>\n",
       "      <td>8.0</td>\n",
       "      <td>3.0</td>\n",
       "      <td>0.0</td>\n",
       "      <td>8</td>\n",
       "      <td>0</td>\n",
       "      <td>43.988306</td>\n",
       "      <td>0.00</td>\n",
       "      <td>3.000000</td>\n",
       "      <td>Fog</td>\n",
       "      <td>0</td>\n",
       "      <td>1997-02-01</td>\n",
       "      <td>1</td>\n",
       "      <td>February</td>\n",
       "      <td>1997</td>\n",
       "    </tr>\n",
       "    <tr>\n",
       "      <th>32</th>\n",
       "      <td>1997-02-02</td>\n",
       "      <td>13.0</td>\n",
       "      <td>9.0</td>\n",
       "      <td>5.0</td>\n",
       "      <td>9.0</td>\n",
       "      <td>7.0</td>\n",
       "      <td>5.0</td>\n",
       "      <td>100.0</td>\n",
       "      <td>93.0</td>\n",
       "      <td>72.0</td>\n",
       "      <td>1028</td>\n",
       "      <td>1026</td>\n",
       "      <td>1025</td>\n",
       "      <td>5.0</td>\n",
       "      <td>2.0</td>\n",
       "      <td>0.0</td>\n",
       "      <td>10</td>\n",
       "      <td>0</td>\n",
       "      <td>43.988306</td>\n",
       "      <td>0.00</td>\n",
       "      <td>5.000000</td>\n",
       "      <td>Fog-Rain</td>\n",
       "      <td>155</td>\n",
       "      <td>1997-02-02</td>\n",
       "      <td>2</td>\n",
       "      <td>February</td>\n",
       "      <td>1997</td>\n",
       "    </tr>\n",
       "    <tr>\n",
       "      <th>...</th>\n",
       "      <td>...</td>\n",
       "      <td>...</td>\n",
       "      <td>...</td>\n",
       "      <td>...</td>\n",
       "      <td>...</td>\n",
       "      <td>...</td>\n",
       "      <td>...</td>\n",
       "      <td>...</td>\n",
       "      <td>...</td>\n",
       "      <td>...</td>\n",
       "      <td>...</td>\n",
       "      <td>...</td>\n",
       "      <td>...</td>\n",
       "      <td>...</td>\n",
       "      <td>...</td>\n",
       "      <td>...</td>\n",
       "      <td>...</td>\n",
       "      <td>...</td>\n",
       "      <td>...</td>\n",
       "      <td>...</td>\n",
       "      <td>...</td>\n",
       "      <td>...</td>\n",
       "      <td>...</td>\n",
       "      <td>...</td>\n",
       "      <td>...</td>\n",
       "      <td>...</td>\n",
       "      <td>...</td>\n",
       "    </tr>\n",
       "    <tr>\n",
       "      <th>6767</th>\n",
       "      <td>2015-11-17</td>\n",
       "      <td>18.0</td>\n",
       "      <td>10.0</td>\n",
       "      <td>3.0</td>\n",
       "      <td>9.0</td>\n",
       "      <td>6.0</td>\n",
       "      <td>2.0</td>\n",
       "      <td>100.0</td>\n",
       "      <td>81.0</td>\n",
       "      <td>40.0</td>\n",
       "      <td>1030</td>\n",
       "      <td>1027</td>\n",
       "      <td>1024</td>\n",
       "      <td>14.0</td>\n",
       "      <td>7.0</td>\n",
       "      <td>5.0</td>\n",
       "      <td>10</td>\n",
       "      <td>5</td>\n",
       "      <td>26.000000</td>\n",
       "      <td>0.00</td>\n",
       "      <td>3.206066</td>\n",
       "      <td>Fog</td>\n",
       "      <td>324</td>\n",
       "      <td>2015-11-17</td>\n",
       "      <td>17</td>\n",
       "      <td>November</td>\n",
       "      <td>2015</td>\n",
       "    </tr>\n",
       "    <tr>\n",
       "      <th>6768</th>\n",
       "      <td>2015-11-18</td>\n",
       "      <td>21.0</td>\n",
       "      <td>11.0</td>\n",
       "      <td>2.0</td>\n",
       "      <td>8.0</td>\n",
       "      <td>5.0</td>\n",
       "      <td>2.0</td>\n",
       "      <td>100.0</td>\n",
       "      <td>71.0</td>\n",
       "      <td>30.0</td>\n",
       "      <td>1032</td>\n",
       "      <td>1028</td>\n",
       "      <td>1025</td>\n",
       "      <td>31.0</td>\n",
       "      <td>14.0</td>\n",
       "      <td>3.0</td>\n",
       "      <td>8</td>\n",
       "      <td>5</td>\n",
       "      <td>43.988306</td>\n",
       "      <td>0.00</td>\n",
       "      <td>3.206066</td>\n",
       "      <td>Fog</td>\n",
       "      <td>358</td>\n",
       "      <td>2015-11-18</td>\n",
       "      <td>18</td>\n",
       "      <td>November</td>\n",
       "      <td>2015</td>\n",
       "    </tr>\n",
       "    <tr>\n",
       "      <th>6805</th>\n",
       "      <td>2015-12-25</td>\n",
       "      <td>14.0</td>\n",
       "      <td>6.0</td>\n",
       "      <td>-2.0</td>\n",
       "      <td>6.0</td>\n",
       "      <td>2.0</td>\n",
       "      <td>-2.0</td>\n",
       "      <td>100.0</td>\n",
       "      <td>83.0</td>\n",
       "      <td>45.0</td>\n",
       "      <td>1036</td>\n",
       "      <td>1032</td>\n",
       "      <td>1031</td>\n",
       "      <td>14.0</td>\n",
       "      <td>5.0</td>\n",
       "      <td>2.0</td>\n",
       "      <td>14</td>\n",
       "      <td>5</td>\n",
       "      <td>43.988306</td>\n",
       "      <td>0.00</td>\n",
       "      <td>3.206066</td>\n",
       "      <td>Fog</td>\n",
       "      <td>349</td>\n",
       "      <td>2015-12-25</td>\n",
       "      <td>25</td>\n",
       "      <td>December</td>\n",
       "      <td>2015</td>\n",
       "    </tr>\n",
       "    <tr>\n",
       "      <th>6807</th>\n",
       "      <td>2015-12-27</td>\n",
       "      <td>14.0</td>\n",
       "      <td>7.0</td>\n",
       "      <td>-1.0</td>\n",
       "      <td>6.0</td>\n",
       "      <td>2.0</td>\n",
       "      <td>-2.0</td>\n",
       "      <td>100.0</td>\n",
       "      <td>77.0</td>\n",
       "      <td>30.0</td>\n",
       "      <td>1035</td>\n",
       "      <td>1030</td>\n",
       "      <td>1027</td>\n",
       "      <td>31.0</td>\n",
       "      <td>14.0</td>\n",
       "      <td>5.0</td>\n",
       "      <td>14</td>\n",
       "      <td>6</td>\n",
       "      <td>43.988306</td>\n",
       "      <td>0.00</td>\n",
       "      <td>8.000000</td>\n",
       "      <td>Fog</td>\n",
       "      <td>38</td>\n",
       "      <td>2015-12-27</td>\n",
       "      <td>27</td>\n",
       "      <td>December</td>\n",
       "      <td>2015</td>\n",
       "    </tr>\n",
       "    <tr>\n",
       "      <th>6809</th>\n",
       "      <td>2015-12-29</td>\n",
       "      <td>11.0</td>\n",
       "      <td>8.0</td>\n",
       "      <td>5.0</td>\n",
       "      <td>9.0</td>\n",
       "      <td>7.0</td>\n",
       "      <td>5.0</td>\n",
       "      <td>100.0</td>\n",
       "      <td>89.0</td>\n",
       "      <td>66.0</td>\n",
       "      <td>1034</td>\n",
       "      <td>1030</td>\n",
       "      <td>1026</td>\n",
       "      <td>31.0</td>\n",
       "      <td>9.0</td>\n",
       "      <td>0.0</td>\n",
       "      <td>14</td>\n",
       "      <td>8</td>\n",
       "      <td>32.000000</td>\n",
       "      <td>2.03</td>\n",
       "      <td>5.000000</td>\n",
       "      <td>Fog-Rain</td>\n",
       "      <td>190</td>\n",
       "      <td>2015-12-29</td>\n",
       "      <td>29</td>\n",
       "      <td>December</td>\n",
       "      <td>2015</td>\n",
       "    </tr>\n",
       "  </tbody>\n",
       "</table>\n",
       "<p>309 rows × 27 columns</p>\n",
       "</div>"
      ],
      "text/plain": [
       "             cet  max_temperaturec  mean_temperaturec  min_temperaturec  \\\n",
       "10    1997-01-11              16.0               10.0               5.0   \n",
       "12    1997-01-13              15.0                9.0               4.0   \n",
       "26    1997-01-27              15.0                8.0               2.0   \n",
       "31    1997-02-01              12.0                9.0               6.0   \n",
       "32    1997-02-02              13.0                9.0               5.0   \n",
       "...          ...               ...                ...               ...   \n",
       "6767  2015-11-17              18.0               10.0               3.0   \n",
       "6768  2015-11-18              21.0               11.0               2.0   \n",
       "6805  2015-12-25              14.0                6.0              -2.0   \n",
       "6807  2015-12-27              14.0                7.0              -1.0   \n",
       "6809  2015-12-29              11.0                8.0               5.0   \n",
       "\n",
       "      dew_pointc  meandew_pointc  min_dewpointc  max_humidity  mean_humidity  \\\n",
       "10          10.0             7.0            5.0         100.0           90.0   \n",
       "12           9.0             4.0           -1.0         100.0           75.0   \n",
       "26           8.0             6.0            2.0         100.0           84.0   \n",
       "31           9.0             7.0            6.0         100.0           95.0   \n",
       "32           9.0             7.0            5.0         100.0           93.0   \n",
       "...          ...             ...            ...           ...            ...   \n",
       "6767         9.0             6.0            2.0         100.0           81.0   \n",
       "6768         8.0             5.0            2.0         100.0           71.0   \n",
       "6805         6.0             2.0           -2.0         100.0           83.0   \n",
       "6807         6.0             2.0           -2.0         100.0           77.0   \n",
       "6809         9.0             7.0            5.0         100.0           89.0   \n",
       "\n",
       "      min_humidity  max_sea_level_pressurehpa  mean_sea_level_pressurehpa  \\\n",
       "10            67.0                       1024                        1022   \n",
       "12            38.0                       1022                        1021   \n",
       "26            55.0                       1028                        1027   \n",
       "31            77.0                       1029                        1028   \n",
       "32            72.0                       1028                        1026   \n",
       "...            ...                        ...                         ...   \n",
       "6767          40.0                       1030                        1027   \n",
       "6768          30.0                       1032                        1028   \n",
       "6805          45.0                       1036                        1032   \n",
       "6807          30.0                       1035                        1030   \n",
       "6809          66.0                       1034                        1030   \n",
       "\n",
       "      min_sea_level_pressurehpa  max_visibilitykm  mean_visibilitykm  \\\n",
       "10                         1021              10.0                6.0   \n",
       "12                         1019              10.0                9.0   \n",
       "26                         1026              10.0                7.0   \n",
       "31                         1027               8.0                3.0   \n",
       "32                         1025               5.0                2.0   \n",
       "...                         ...               ...                ...   \n",
       "6767                       1024              14.0                7.0   \n",
       "6768                       1025              31.0               14.0   \n",
       "6805                       1031              14.0                5.0   \n",
       "6807                       1027              31.0               14.0   \n",
       "6809                       1026              31.0                9.0   \n",
       "\n",
       "      min_visibilitykm  max_wind_speedkm/h  mean_wind_speedkm/h  \\\n",
       "10                 0.0                  11                    2   \n",
       "12                 3.0                  11                    2   \n",
       "26                 0.0                  10                    2   \n",
       "31                 0.0                   8                    0   \n",
       "32                 0.0                  10                    0   \n",
       "...                ...                 ...                  ...   \n",
       "6767               5.0                  10                    5   \n",
       "6768               3.0                   8                    5   \n",
       "6805               2.0                  14                    5   \n",
       "6807               5.0                  14                    6   \n",
       "6809               0.0                  14                    8   \n",
       "\n",
       "      max_gust_speedkm/h  precipitationmm  cloudcover    events  \\\n",
       "10             43.988306             0.00    3.000000       Fog   \n",
       "12             43.988306             0.00    4.000000       Fog   \n",
       "26             43.988306             0.00    6.000000       Fog   \n",
       "31             43.988306             0.00    3.000000       Fog   \n",
       "32             43.988306             0.00    5.000000  Fog-Rain   \n",
       "...                  ...              ...         ...       ...   \n",
       "6767           26.000000             0.00    3.206066       Fog   \n",
       "6768           43.988306             0.00    3.206066       Fog   \n",
       "6805           43.988306             0.00    3.206066       Fog   \n",
       "6807           43.988306             0.00    8.000000       Fog   \n",
       "6809           32.000000             2.03    5.000000  Fog-Rain   \n",
       "\n",
       "      winddirdegrees       date  day     month  year  \n",
       "10               344 1997-01-11   11   January  1997  \n",
       "12               128 1997-01-13   13   January  1997  \n",
       "26                 5 1997-01-27   27   January  1997  \n",
       "31                 0 1997-02-01    1  February  1997  \n",
       "32               155 1997-02-02    2  February  1997  \n",
       "...              ...        ...  ...       ...   ...  \n",
       "6767             324 2015-11-17   17  November  2015  \n",
       "6768             358 2015-11-18   18  November  2015  \n",
       "6805             349 2015-12-25   25  December  2015  \n",
       "6807              38 2015-12-27   27  December  2015  \n",
       "6809             190 2015-12-29   29  December  2015  \n",
       "\n",
       "[309 rows x 27 columns]"
      ]
     },
     "execution_count": 30,
     "metadata": {},
     "output_type": "execute_result"
    }
   ],
   "source": [
    "#Now we can filter foggy days in our sample \n",
    "\n",
    "foggy_days= df[df.events.isin(fog_events)]\n",
    "foggy_days"
   ]
  },
  {
   "cell_type": "code",
   "execution_count": 31,
   "id": "839e5af3",
   "metadata": {},
   "outputs": [
    {
     "data": {
      "text/plain": [
       "6.676375404530744"
      ]
     },
     "execution_count": 31,
     "metadata": {},
     "output_type": "execute_result"
    }
   ],
   "source": [
    "#Then we can calculate the average visibility for foggy days.\n",
    "\n",
    "fog_vis=foggy_days['mean_visibilitykm'].mean()\n",
    "\n",
    "fog_vis"
   ]
  },
  {
   "cell_type": "code",
   "execution_count": 36,
   "id": "2def0bec",
   "metadata": {},
   "outputs": [
    {
     "data": {
      "image/png": "[encoded data removed]",
      "text/plain": [
       "<Figure size 432x432 with 1 Axes>"
      ]
     },
     "metadata": {
      "needs_background": "light"
     },
     "output_type": "display_data"
    }
   ],
   "source": [
    "xaxis=['Clear Days','Foggy Days']\n",
    "yaxis=[clear_vis,fog_vis]\n",
    "\n",
    "plt.rcParams[\"figure.figsize\"] = (6,6);\n",
    "plt.bar(xaxis,yaxis);\n",
    "\n",
    "plt.title('Average Visibility in Clear Days Vs Foggy Days');\n",
    "plt.xlabel('Type of day');\n",
    "plt.ylabel('Average Visibilty in KM');"
   ]
  },
  {
   "cell_type": "markdown",
   "id": "e897afdf",
   "metadata": {},
   "source": [
    "**Clear days have higher visibilty than foggy days. Clear days have an average visibilty of 12.6 KM while foggy days have an average visibilty of 6.67 KM.**"
   ]
  },
  {
   "cell_type": "markdown",
   "id": "37d8fdd5",
   "metadata": {},
   "source": [
    "### Conclusion:"
   ]
  },
  {
   "cell_type": "markdown",
   "id": "5613903c",
   "metadata": {},
   "source": [
    "The best time to visit Madrid is in the summer ( June,July, August) where the weather is the warmest. \n",
    "\n",
    "Madrid throughout the years had witnessed clear days more than days with stormy days.\n",
    "\n",
    "In November 1997 Madrid had witnessed one of the days with the highest gust/wind speed. \n",
    "\n",
    "Visibilty on clear days is much higher than that on foggy days. "
   ]
  },
  {
   "cell_type": "code",
   "execution_count": null,
   "id": "2132867b",
   "metadata": {},
   "outputs": [],
   "source": []
  }
 ],
 "metadata": {
  "kernelspec": {
   "display_name": "Python 3 (ipykernel)",
   "language": "python",
   "name": "python3"
  },
  "language_info": {
   "codemirror_mode": {
    "name": "ipython",
    "version": 3
   },
   "file_extension": ".py",
   "mimetype": "text/x-python",
   "name": "python",
   "nbconvert_exporter": "python",
   "pygments_lexer": "ipython3",
   "version": "3.9.7"
  }
 },
 "nbformat": 4,
 "nbformat_minor": 5
}
